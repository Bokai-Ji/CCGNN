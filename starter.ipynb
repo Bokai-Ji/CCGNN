{
 "cells": [
  {
   "cell_type": "code",
   "execution_count": 1,
   "metadata": {},
   "outputs": [],
   "source": [
    "import pickle\n",
    "import matplotlib.pyplot as plt\n",
    "import networkx as nx\n",
    "import igraph as ig\n",
    "import scipy.sparse as sp\n",
    "import numpy as np\n",
    "import torch\n",
    "import json"
   ]
  },
  {
   "cell_type": "markdown",
   "metadata": {},
   "source": [
    "### Parsing topology"
   ]
  },
  {
   "cell_type": "code",
   "execution_count": 2,
   "metadata": {},
   "outputs": [
    {
     "data": {
      "text/plain": [
       "(dict,\n",
       " dict_keys(['hosts', 'switches', 'links']),\n",
       " [['h1', 's1-p2'],\n",
       "  ['h11', 's1-p1'],\n",
       "  ['s1-p3', 's2-p3', '0', 0.5],\n",
       "  ['s1-p4', 's3-p2'],\n",
       "  ['s3-p3', 's2-p4'],\n",
       "  ['h2', 's2-p2'],\n",
       "  ['h22', 's2-p1'],\n",
       "  ['h3', 's3-p1']])"
      ]
     },
     "execution_count": 2,
     "metadata": {},
     "output_type": "execute_result"
    }
   ],
   "source": [
    "topo = json.load(open('./mri/topology.json'))\n",
    "type(topo), topo.keys(), topo['links']"
   ]
  },
  {
   "cell_type": "code",
   "execution_count": 3,
   "metadata": {},
   "outputs": [],
   "source": [
    "# get all the nodes\n",
    "# hosts are represented as h* and switches as s*, where * is a number\n",
    "# s1-p2 means port 2 of switch 1\n",
    "# since all ports on the same switch are connected, we can ignore the port number\n",
    "# each link are assumed to have the same capacity\n",
    "def parse_topo(topo):\n",
    "    G = nx.Graph()\n",
    "    nodes = []\n",
    "    for link in topo['links']:\n",
    "        nodes.append(link[0].split('-')[0])\n",
    "        nodes.append(link[1].split('-')[0])\n",
    "    nodes = list(set(nodes))\n",
    "    G.add_nodes_from(nodes)\n",
    "    edges = []\n",
    "    for link in topo['links']:\n",
    "        edges.append((link[0].split('-')[0], link[1].split('-')[0]))\n",
    "    return G"
   ]
  },
  {
   "cell_type": "code",
   "execution_count": 4,
   "metadata": {},
   "outputs": [
    {
     "ename": "",
     "evalue": "",
     "output_type": "error",
     "traceback": [
      "\u001b[1;31mThe Kernel crashed while executing code in the the current cell or a previous cell. Please review the code in the cell(s) to identify a possible cause of the failure. Click <a href='https://aka.ms/vscodeJupyterKernelCrash'>here</a> for more info. View Jupyter <a href='command:jupyter.viewOutput'>log</a> for further details."
     ]
    }
   ],
   "source": [
    "G = parse_topo(topo)\n",
    "nx.draw(G, with_labels=True, font_weight='bold')"
   ]
  }
 ],
 "metadata": {
  "kernelspec": {
   "display_name": "pytorch",
   "language": "python",
   "name": "python3"
  },
  "language_info": {
   "codemirror_mode": {
    "name": "ipython",
    "version": 3
   },
   "file_extension": ".py",
   "mimetype": "text/x-python",
   "name": "python",
   "nbconvert_exporter": "python",
   "pygments_lexer": "ipython3",
   "version": "3.9.12"
  },
  "orig_nbformat": 4
 },
 "nbformat": 4,
 "nbformat_minor": 2
}
